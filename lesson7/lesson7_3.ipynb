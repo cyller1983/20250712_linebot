{
 "cells": [
  {
   "cell_type": "code",
   "execution_count": 8,
   "id": "3c0e794c",
   "metadata": {},
   "outputs": [
    {
     "data": {
      "text/markdown": [
       "這是一種**北極熊** (English: **Polar Bear**)。\n",
       "\n",
       "以下是關於北極熊的一些資訊：\n",
       "\n",
       "*   **棲息地 (Habitat)**：北極熊主要棲息在北極圈內，包括加拿大、格陵蘭、挪威、俄羅斯和美國（阿拉斯加）等地區的冰凍海洋和陸地。牠們是唯一被歸類為海洋哺乳動物的熊科動物，因為牠們的生存嚴重依賴海洋。\n",
       "*   **外觀特徵 (Appearance)**：\n",
       "    *   **皮毛**：北極熊的皮毛是厚實的白色，但實際上牠們的毛是透明且中空的，只是光線反射使其看起來是白色。這層毛提供極佳的絕緣效果。\n",
       "    *   **皮膚**：牠們的皮膚是黑色的，有助於吸收太陽的熱量以保持體溫。\n",
       "    *   **體型**：是陸地上最大的食肉動物之一，成年雄性體重可達300-600公斤，甚至更高。\n",
       "    *   **腳掌**：牠們有大而有力的腳掌，腳墊上有粗糙的突起和短而強壯的爪子，這有助於牠們在冰雪上行走，也能在游泳時像槳一樣划水。\n",
       "*   **食性 (Diet)**：北極熊是頂級掠食者，主要以海豹為食，尤其是環斑海豹和髯海豹。牠們也會捕食海象幼崽、鳥類、魚類，甚至腐肉。\n",
       "*   **適應環境 (Adaptations)**：\n",
       "    *   **保暖**：除了厚厚的皮毛，牠們還有厚達11公分的脂肪層，提供絕佳的保暖效果。\n",
       "    *   **游泳**：牠們是出色的游泳者和潛水者，可以在水中憋氣長達幾分鐘。牠們的名字\"Ursus maritimus\"意為\"海熊\"。\n",
       "    *   **嗅覺**：擁有極其靈敏的嗅覺，能在數公里外聞到海豹的氣味，甚至能嗅到冰層下方的海豹。\n",
       "*   **保育狀況 (Conservation Status)**：由於全球氣候變遷導致北極海冰的快速融化，北極熊賴以生存和捕食的棲息地面臨嚴重威脅。牠們被國際自然保護聯盟（IUCN）列為**易危物種（Vulnerable）**，其數量正在減少。"
      ],
      "text/plain": [
       "<IPython.core.display.Markdown object>"
      ]
     },
     "metadata": {},
     "output_type": "display_data"
    }
   ],
   "source": [
    "import PIL.Image\n",
    "from google import genai\n",
    "from IPython.display import display, Markdown\n",
    "\n",
    "client = genai.Client()\n",
    "image = PIL.Image.open(\"polar bears.jpg\")\n",
    "response = client.models.generate_content(\n",
    "    model=\"gemini-2.5-flash\",\n",
    "    contents=[image,\"請告訴我這是什麼動物(包含英文名稱)，還有關於牠的一些資訊\"],\n",
    ")\n",
    "\n",
    "display(Markdown(response.text))"
   ]
  },
  {
   "cell_type": "code",
   "execution_count": null,
   "id": "360ed348",
   "metadata": {},
   "outputs": [
    {
     "data": {
      "text/markdown": [
       "哦，那太好了！有兩隻狗狗在家裡陪伴一定很溫馨。\n",
       "\n",
       "它們是什麼品種呢？或者有什麼有趣的故事可以分享嗎？"
      ],
      "text/plain": [
       "<IPython.core.display.Markdown object>"
      ]
     },
     "metadata": {},
     "output_type": "display_data"
    },
    {
     "data": {
      "text/markdown": [
       "既然您有兩隻狗，而每隻狗通常有四隻爪子，那麼：\n",
       "\n",
       "2 隻狗 x 4 隻爪子/狗 = **8 隻爪子**\n",
       "\n",
       "所以，您的房子裡總共有8隻狗狗的爪子。"
      ],
      "text/plain": [
       "<IPython.core.display.Markdown object>"
      ]
     },
     "metadata": {},
     "output_type": "display_data"
    },
    {
     "name": "stdout",
     "output_type": "stream",
     "text": [
      "=========Chat內的記憶==========\n",
      "role - user: 我有2隻狗在我的房子內\n",
      "role - model: 哦，那太好了！有兩隻狗狗在家裡陪伴一定很溫馨。\n",
      "\n",
      "它們是什麼品種呢？或者有什麼有趣的故事可以分享嗎？\n",
      "role - user: 在我家裏有多少爪子?\n",
      "role - model: 既然您有兩隻狗，而每隻狗通常有四隻爪子，那麼：\n",
      "\n",
      "2 隻狗 x 4 隻爪子/狗 = **8 隻爪子**\n",
      "\n",
      "所以，您的房子裡總共有8隻狗狗的爪子。\n"
     ]
    }
   ],
   "source": [
    "from google import genai\n",
    "\n",
    "client = genai.Client()\n",
    "chat = client.chats.create(model=\"gemini-2.5-flash\")\n",
    "\n",
    "\n",
    "response = chat.send_message(\"我有2隻狗在我的房子內\")\n",
    "display(Markdown(response.text))\n",
    "\n",
    "response = chat.send_message('在我家裏有多少狗爪子?')\n",
    "display(Markdown(response.text))\n",
    "\n",
    "print(\"=========Chat內的記憶==========\")\n",
    "for message in chat.get_history():\n",
    "    print(f'role - {message.role}',end=\": \")\n",
    "    print(message.parts[0].text)"
   ]
  }
 ],
 "metadata": {
  "kernelspec": {
   "display_name": "line_bot",
   "language": "python",
   "name": "python3"
  },
  "language_info": {
   "codemirror_mode": {
    "name": "ipython",
    "version": 3
   },
   "file_extension": ".py",
   "mimetype": "text/x-python",
   "name": "python",
   "nbconvert_exporter": "python",
   "pygments_lexer": "ipython3",
   "version": "3.12.11"
  }
 },
 "nbformat": 4,
 "nbformat_minor": 5
}
