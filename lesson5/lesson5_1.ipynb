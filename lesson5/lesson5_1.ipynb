{
 "cells": [
  {
   "cell_type": "code",
   "execution_count": 1,
   "id": "b757ea46",
   "metadata": {},
   "outputs": [
    {
     "name": "stdout",
     "output_type": "stream",
     "text": [
      "Looking in indexes: https://pypi.org/simple, https://www.piwheels.org/simple\n",
      "Requirement already satisfied: requests in /home/pi/miniconda3/envs/line_bot/lib/python3.12/site-packages (2.32.4)\n",
      "Requirement already satisfied: charset_normalizer<4,>=2 in /home/pi/miniconda3/envs/line_bot/lib/python3.12/site-packages (from requests) (3.4.2)\n",
      "Requirement already satisfied: idna<4,>=2.5 in /home/pi/miniconda3/envs/line_bot/lib/python3.12/site-packages (from requests) (3.10)\n",
      "Requirement already satisfied: urllib3<3,>=1.21.1 in /home/pi/miniconda3/envs/line_bot/lib/python3.12/site-packages (from requests) (2.5.0)\n",
      "Requirement already satisfied: certifi>=2017.4.17 in /home/pi/miniconda3/envs/line_bot/lib/python3.12/site-packages (from requests) (2025.7.14)\n",
      "Note: you may need to restart the kernel to use updated packages.\n"
     ]
    }
   ],
   "source": [
    "pip install requests"
   ]
  },
  {
   "cell_type": "code",
   "execution_count": 2,
   "id": "bb585f27",
   "metadata": {},
   "outputs": [
    {
     "name": "stdout",
     "output_type": "stream",
     "text": [
      "💬 AI 回應：\n",
      "{'model': 'gemma3:1b', 'created_at': '2025-07-26T03:59:08.370816474Z', 'response': '{\\n\"解釋：\":\"Python的函式就像是小工具，可以做一些特定任務。你可以把它想像成一個命令，告訴Python程式執行什麼動作。\"\\n\\n   \\n   \\n   \\n   \\n   \\n   \\n   \\n   \\n   \\n   \\n   \\n   \\n   \\n   \\n   \\n', 'done': False}\n",
      "{\n",
      "\"解釋：\":\"Python的函式就像是小工具，可以做一些特定任務。你可以把它想像成一個命令，告訴Python程式執行什麼動作。\"\n",
      "\n",
      "   \n",
      "   \n",
      "   \n",
      "   \n",
      "   \n",
      "   \n",
      "   \n",
      "   \n",
      "   \n",
      "   \n",
      "   \n",
      "   \n",
      "   \n",
      "   \n",
      "   \n",
      "\n"
     ]
    }
   ],
   "source": [
    "import requests\n",
    "\n",
    "def chat_with_ollama(prompt: str):\n",
    "    url = \"http://localhost:11434/api/generate\"\n",
    "    payload = {\n",
    "        \"model\": \"gemma3:1b\",\n",
    "        \"prompt\": prompt,\n",
    "        \"stream\": False,\n",
    "        \"options\": { #參考說明1\n",
    "            \"temperature\": 0.7,\n",
    "            \"top_p\": 0.9,\n",
    "            \"top_k\": 50,\n",
    "        },\n",
    "        \"max_tokens\": 100,\n",
    "        \"format\": \"json\",\n",
    "    }\n",
    "\n",
    "    response = requests.post(url, json=payload)\n",
    "    result = response.json()\n",
    "    print(\"💬 AI 回應：\")\n",
    "    # Print the whole result for debugging\n",
    "    print(result)\n",
    "    # Try to print the 'response' key if it exists, otherwise print possible keys\n",
    "    if \"response\" in result:\n",
    "        print(result[\"response\"])\n",
    "    elif \"message\" in result:\n",
    "        print(result[\"message\"])\n",
    "    elif \"content\" in result:\n",
    "        print(result[\"content\"])\n",
    "    else:\n",
    "        print(\"No expected key found in response. Available keys:\", result.keys())\n",
    "\n",
    "#範例輸入\n",
    "chat_with_ollama(\"請用簡單的方式解釋什麼是Python的函式？\")"
   ]
  },
  {
   "cell_type": "code",
   "execution_count": null,
   "id": "8e7932f0",
   "metadata": {},
   "outputs": [],
   "source": [
    "import requests\n",
    "\n",
    "url = 'http://github.com/open-webui/open-webui'\n",
    "response = requests.get(url) #引數值的呼叫\n",
    "#type(response) #回傳值的呼叫\n",
    "if response.status_code == 200: #屬性呼叫\n",
    "    print(\"下載成功\")\n",
    "    print(response.text)  # Print the first 1000 characters of the\n",
    "else:\n",
    "    print(\"無法獲取網頁內容\")\n",
    "#requests.get(url=url) #引數名稱的呼叫\n"
   ]
  },
  {
   "cell_type": "code",
   "execution_count": 3,
   "id": "e392300f",
   "metadata": {},
   "outputs": [
    {
     "name": "stdout",
     "output_type": "stream",
     "text": [
      "請求成功\n"
     ]
    },
    {
     "data": {
      "text/markdown": [
       "你說得非常對！海綿寶寶的書法確實是**海綿體 (SpongeBob Font)**。\n",
       "\n",
       "這個字體是官方為海綿寶寶卡通設計的，並非隨意塗鴉或手寫。它模仿了海綿寶寶的獨特外形和筆觸，充滿了可愛和趣味。\n",
       "\n",
       "*   **誕生背景:** 2019年，在《海綿寶寶》的第26週年慶活動中，貝克史密斯（Beck Smith）設計了這個字體，並成功地將它提交給了環球影業，獲得了官方認可。\n",
       "*   **獨特風格:** 海綿體最大的特點是其圓潤、誇張的筆畫，以及標點符號也都被設計成小海綿寶寶的形象。\n",
       "*   **廣泛應用:** 這個字體被廣泛應用於各種海綿寶寶的商品和活動中，例如標語、海報、商品包裝等。\n",
       "\n",
       "所以，下次你看到海綿寶寶的書法，那幾乎可以肯定就是那款官方設計的海綿體！\n"
      ],
      "text/plain": [
       "<IPython.core.display.Markdown object>"
      ]
     },
     "metadata": {},
     "output_type": "display_data"
    }
   ],
   "source": [
    "import requests\n",
    "from IPython.display import display, Markdown\n",
    "\n",
    "url = \"http://localhost:11434/api/generate\"\n",
    "response = requests.post(url,json={\n",
    "    \"model\": \"gemma3:latest\",\n",
    "    \"prompt\": \"海綿寶寶的書法是不是海綿體?\",\n",
    "    \"stream\": False,\n",
    "    \n",
    "})\n",
    "if response.status_code == 200:\n",
    "    print(\"請求成功\")\n",
    "    result = response.json()  # Parse the JSON response\n",
    "    display(Markdown(result['response']))  # Print the JSON response\n",
    "else:\n",
    "    print(\"請求失敗，狀態碼：\", response.status_code)\n",
    "    print(\"錯誤訊息：\", response.status_code)\n"
   ]
  },
  {
   "cell_type": "code",
   "execution_count": null,
   "id": "764210e0",
   "metadata": {},
   "outputs": [],
   "source": [
    "{\n",
    "    \"tw\":\"Taiwan\",\n",
    "    \"jp\":\"Japan\",\n",
    "    \"us\":\"United States\",\n",
    "}\n",
    "codes[\"tw\"] #字典的呼叫\n",
    "codes[\"jp\"] #字典的呼叫\n",
    "codes[\"us\"] #字典的呼叫\n",
    "codees\n"
   ]
  }
 ],
 "metadata": {
  "kernelspec": {
   "display_name": "line_bot",
   "language": "python",
   "name": "python3"
  },
  "language_info": {
   "codemirror_mode": {
    "name": "ipython",
    "version": 3
   },
   "file_extension": ".py",
   "mimetype": "text/x-python",
   "name": "python",
   "nbconvert_exporter": "python",
   "pygments_lexer": "ipython3",
   "version": "3.12.11"
  }
 },
 "nbformat": 4,
 "nbformat_minor": 5
}
