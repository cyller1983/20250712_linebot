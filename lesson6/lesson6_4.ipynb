{
 "cells": [
  {
   "cell_type": "code",
   "execution_count": 1,
   "id": "0cff2520",
   "metadata": {},
   "outputs": [
    {
     "name": "stdout",
     "output_type": "stream",
     "text": [
      "==========AI回應==========\n"
     ]
    },
    {
     "data": {
      "text/markdown": [
       "好的，我們來深入了解第一次嘗試釀啤酒的過程。這是一個充滿樂趣和挑戰的過程，以下我將針對你的問題，提供詳細的資訊：\n",
       "\n",
       "**1. 最佳開始的啤酒類型：**\n",
       "\n",
       "對於初學者，**小麥啤酒（Pale Ale）** 通常是個不錯的入門選擇。原因如下：\n",
       "\n",
       "*   **易於掌握：** 小麥啤酒的酵母選擇較為簡單，容易與酵母結合，製作出比較穩定的口感。\n",
       "*   **易於調整：** 麥芽和啤酒花的比例比較容易調整，以獲得不同的口感。\n",
       "*   **風味豐富：** 小麥啤酒通常具有柑橘、木質等風味，適合剛入門的啤酒愛好者。\n",
       "\n",
       "**2. 麥芽與啤酒花：**\n",
       "\n",
       "*   **麥芽：**\n",
       "    *   **光麥芽（Pale Malt）:** 這是最常見的選擇，主要用於製作小麥啤酒。\n",
       "    *   **特種麥芽（Special Malt）:** 根據需求選擇不同的麥芽，例如 Honey Malt（蜂蜜麥芽）會增加甜味，或者 Crystal Malt（結晶麥芽）會增加泡沫。\n",
       "*   **啤酒花：**\n",
       "    *   **水啤酒花（Water-Powered）** 這是最常見的選擇，因為它們的酵母活性較高，可以更容易地產生複雜的風味。\n",
       "    *   **苦啤酒花（Bittering Malt）:** 這是用來增加啤酒風味的關鍵。\n",
       "    *   **洋甘草啤酒花（Clover Malt）:** 增加啤酒的甜度及風味，口感偏酸。\n",
       "    *   **花椰子啤酒花（Fruit Flavor）:** 增加啤酒的口感，帶有花椰子風味，會讓啤酒更清爽。\n",
       "\n",
       "**3. 釀造步驟：**\n",
       "\n",
       "1.  **準備工作：**\n",
       "    *   **購買酵母:** 選擇適合小麥啤酒的酵母。\n",
       "    *   **準備啤酒花:** 根據設計的啤酒花比例，準備好啤酒花。\n",
       "    *   **準備設備:** 啤酒桶、啤酒桶蓋、啤酒桶、冰塊、啤酒桶刷、啤酒桶計量器等。\n",
       "2.  **熔化麥芽：** 將麥芽用滾燙水融化，並在啤酒桶中慢慢加熱。\n",
       "3.  **旋轉啤酒花：** 將啤酒花和啤酒花混合，旋轉啤酒花，使其進入啤酒桶中。\n",
       "4.  **煮沸：** 煮沸啤酒，讓酵母開始繁殖。\n",
       "5.  **冷卻：** 將啤酒煮至 20-25 攝氏度，停止酵母繁殖。\n",
       "6.  **攪拌：** 攪拌啤酒，讓酵母充分與啤酒混合。\n",
       "7.  **等待：** 讓啤酒在啤酒桶中休息，讓酵母進行 Fermentation（發酵）。\n",
       "8.  **瓶裝：** 完成 Fermentation後，將啤酒瓶裝，並等待裝瓶。\n",
       "\n",
       "**4. 釀造時間：**\n",
       "\n",
       "*   **初次釀造：** 建議至少 1-2 週。\n",
       "*   **最佳時期：** 最佳時期是在 18-20 攝氏度之間，但也會受到溫度因素影響。\n",
       "\n",
       "**5. 釀造口感和風味：**\n",
       "\n",
       "*   **口感：** 小麥啤酒的口感通常較為清爽，帶有淡淡的苦味和麥芽的味道。\n",
       "*   **風味：**\n",
       "    *   **柑橘:**  許多小麥啤酒會帶有柑橘或柑橘的風味。\n",
       "    *   **木質:** 尤其在熱帶地區，可能會帶有木質風味。\n",
       "    *   **甜度:** 某些麥芽種（如 Honey Malt）會增加啤酒的甜度。\n",
       "    *   **泡沫:** 某些啤酒花（如洋甘草）會產生泡沫。\n",
       "\n",
       "**6. 建議配方 (初次嘗試):**\n",
       "\n",
       "*   **麥芽:** 50% 光麥芽 (例如：Pale Malt 2X)\n",
       "*   **啤酒花:** 50% 水啤酒花 (例如：Water-Powered)\n",
       "*   **比例:** 5升啤酒桶，大约 60% 啤酒花，20% 麥芽，10% 水啤酒花。\n",
       "\n",
       "**重要提示：**\n",
       "\n",
       "*   **安全第一：** 釀造啤酒需要注意安全，並確保所有操作符合相關規範。\n",
       "*   **記錄：** 記錄整個釀造過程中的數據，以便在下次嘗試時可以比較不同材料和步驟的效果。\n",
       "*   **耐心：** 釀造啤酒需要耐心，不要急於求成。\n",
       "\n",
       "**學習資源：**\n",
       "\n",
       "*   **網購：** 可以購買小型啤酒桶、啤酒花、酵母等。\n",
       "*   **影片：** 可以在 YouTube 搜尋 \"small batch beer brewing\" 或 \"初次釀造啤酒\" 找到很多教學影片。\n",
       "*   **線上論壇/社群：** 可以在 Beer Aficionado 這樣的線上論壇或社群中，分享經驗、學習技巧，並獲得建議。\n",
       "\n",
       "希望這些資訊對你有所幫助！祝你釀造成功！"
      ],
      "text/plain": [
       "<IPython.core.display.Markdown object>"
      ]
     },
     "metadata": {},
     "output_type": "display_data"
    }
   ],
   "source": [
    "import requests\n",
    "import pprint\n",
    "from IPython.display import Markdown, display\n",
    "\n",
    "def generate_with_ollama(prompt:str)->None:\n",
    "    url = \"http://localhost:11434/api/generate\"\n",
    "    payload = {\n",
    "        \"model\": \"gemma3:1b\",\n",
    "        \"prompt\": prompt,\n",
    "        \"stream\": False\n",
    "    }\n",
    "    response = requests.post(url, json=payload)\n",
    "    result = response.json()\n",
    "    #print(type(result))\n",
    "    #pprint.pprint(resultne)\n",
    "    print(\"==========AI回應==========\")\n",
    "    display(Markdown(result['response']))\n",
    "\n",
    "generate_with_ollama(\"第一次釀啤酒，從哪一種啤酒開始比較好？\" \\\n",
    "\"建議使用哪一種麥芽和啤酒花？\" \\\n",
    "\"需要注意哪些釀造步驟？\" \\\n",
    "\"釀造時間大約需要多久？\" \\\n",
    "\"這個啤酒的口感和風味會是什麼樣的？\")"
   ]
  }
 ],
 "metadata": {
  "kernelspec": {
   "display_name": "line_bot",
   "language": "python",
   "name": "python3"
  },
  "language_info": {
   "codemirror_mode": {
    "name": "ipython",
    "version": 3
   },
   "file_extension": ".py",
   "mimetype": "text/x-python",
   "name": "python",
   "nbconvert_exporter": "python",
   "pygments_lexer": "ipython3",
   "version": "3.12.11"
  }
 },
 "nbformat": 4,
 "nbformat_minor": 5
}
