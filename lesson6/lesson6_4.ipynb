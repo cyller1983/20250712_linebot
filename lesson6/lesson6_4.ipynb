{
 "cells": [
  {
   "cell_type": "code",
   "execution_count": null,
   "id": "0cff2520",
   "metadata": {},
   "outputs": [
    {
     "name": "stdout",
     "output_type": "stream",
     "text": [
      "==========AI回應==========\n"
     ]
    },
    {
     "data": {
      "text/markdown": [
       "想像一下 Python 的函式就像一個 **小工具**，可以幫你做一些事情。\n",
       "\n",
       "**簡單來說，Python 的函式是經過設計的、可以重複使用的程式碼片段。**\n",
       "\n",
       "讓我們分解一下：\n",
       "\n",
       "* **程式碼片段:** 就像一把小刀，可以替你做很多事情。\n",
       "* **重複使用的:** 每一組程式碼片段，都是可以被你多次使用。 就像你把刀用來切蘋果，重複很多次。\n",
       "* **小工具:** 函式會幫你執行特定的任務，例如計算一個數字、換取一個資料、顯示訊息等等。\n",
       "\n",
       "**舉個例子:**\n",
       "\n",
       "假設你要計算兩個數字的和，你可以寫一個 Python 函式：\n",
       "\n",
       "```python\n",
       "def add_numbers(a, b):\n",
       "  \"\"\"這函式會計算兩個數字的和\"\"\"\n",
       "  result = a + b\n",
       "  return result\n",
       "\n",
       "num1 = 5\n",
       "num2 = 3\n",
       "sum_result = add_numbers(num1, num2)\n",
       "print(f\"The sum of {num1} and {num2} is: {sum_result}\")\n",
       "```\n",
       "\n",
       "這個函式會這樣做：\n",
       "\n",
       "1. 傳遞兩個數字 `num1` 和 `num2`給函式。\n",
       "2. 計算 `num1 + num2`。\n",
       "3. 返回這個結果。\n",
       "4. 輸出結果。\n",
       "\n",
       "**總結一下，Python 函式就是：**\n",
       "\n",
       "* **定義一個叫做 `函式` 的程式碼。**\n",
       "* **讓程式碼重複使用，就像一個工具。**\n",
       "* **執行特定的任務，來解決問題。**\n",
       "\n",
       "希望這個解釋能夠幫助你理解 Python 的函式!\n",
       "\n",
       "你可以使用 Python 的函式來做很多事情，例如：\n",
       "\n",
       "* **處理資料:** 像是讀取文件、存取資料、儲存資料等等。\n",
       "* **執行計算:** 像是計算一個數字、比較兩個數字等等。\n",
       "* **顯示訊息:** 像是顯示文字、圖表等等。\n",
       "* **執行其他程式碼:** 像是控制程式的運作等等。\n",
       "\n",
       "如果你想更深入地了解 Python 函式，我可以提供更多關於它們的詳細說明。\n"
      ],
      "text/plain": [
       "<IPython.core.display.Markdown object>"
      ]
     },
     "metadata": {},
     "output_type": "display_data"
    }
   ],
   "source": [
    "import requests\n",
    "import pprint\n",
    "from IPython.display import Markdown, display\n",
    "\n",
    "def generate_with_ollama(prompt:str)->None:\n",
    "    url = \"http://localhost:11434/api/generate\"\n",
    "    payload = {\n",
    "        \"model\": \"gemma3:1b\",\n",
    "        \"prompt\": prompt,\n",
    "        \"stream\": False\n",
    "    }\n",
    "    response = requests.post(url, json=payload)\n",
    "    result = response.json()\n",
    "    #print(type(result))\n",
    "    #pprint.pprint(resultne)\n",
    "    print(\"==========AI回應==========\")\n",
    "    display(Markdown(result['response']))\n",
    "\n",
    "generate_with_ollama(\"請用簡單的方式解釋什麼是Python的函式?\")"
   ]
  }
 ],
 "metadata": {
  "kernelspec": {
   "display_name": "line_bot",
   "language": "python",
   "name": "python3"
  },
  "language_info": {
   "codemirror_mode": {
    "name": "ipython",
    "version": 3
   },
   "file_extension": ".py",
   "mimetype": "text/x-python",
   "name": "python",
   "nbconvert_exporter": "python",
   "pygments_lexer": "ipython3",
   "version": "3.12.11"
  }
 },
 "nbformat": 4,
 "nbformat_minor": 5
}
